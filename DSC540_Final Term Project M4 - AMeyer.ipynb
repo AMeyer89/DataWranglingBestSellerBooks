{
 "cells": [
  {
   "cell_type": "markdown",
   "metadata": {},
   "source": [
    "## Final Term Project Milestone 4\n",
    "**April Meyer  \n",
    "DSC540-T301 Data Preparation (2207-1)**\n",
    "\n",
    "\t1. Perform at least 5 data transformation and/or cleansing steps to your Connecting to an API/Pulling in the Data and Cleaning/Formatting.\n",
    "        • Replace Headers\n",
    "        • Format data into a more readable format\n",
    "        • Identify outliers and bad data\n",
    "        • Find duplicates\n",
    "        • Fix casing or inconsistent values\n",
    "        • Conduct Fuzzy Matching\n",
    "        \n",
    "        \n",
    "**My goal here is to use this API and search function in the last milestone. I want to take the authors from the best seller lists and find their other work.**"
   ]
  },
  {
   "cell_type": "code",
   "execution_count": 3,
   "metadata": {},
   "outputs": [],
   "source": [
    "# Import the necessary libraries\n",
    "import urllib.request, urllib.parse, urllib.error\n",
    "import requests\n",
    "from bs4 import BeautifulSoup\n",
    "import pandas as pd \n",
    "from string import digits \n",
    "import json"
   ]
  },
  {
   "cell_type": "code",
   "execution_count": 5,
   "metadata": {},
   "outputs": [
    {
     "name": "stdout",
     "output_type": "stream",
     "text": [
      "https://www.goodreads.com/search/index.xml?&key=dZJ8HTjP544O1EKH0MIGQDelia+Owens\n"
     ]
    }
   ],
   "source": [
    "search = 'Delia+Owens'\n",
    "# Opening my the APIkeys.json file to retrieve my Goodreads Key\n",
    "with open('APIkeys.json') as f:\n",
    "    keys = json.loads(f.read())\n",
    "    GoodReads = keys[0]['GoodReads']\n",
    "# Assigning the Goodreads url as a string to a variable. \n",
    "serviceurl = 'https://www.goodreads.com/search/index.xml?'\n",
    "apikey = '&key='+ GoodReads\n",
    "url = serviceurl + apikey + search\n",
    "print(url)"
   ]
  },
  {
   "cell_type": "code",
   "execution_count": 131,
   "metadata": {},
   "outputs": [],
   "source": [
    "def to_dataframe(list):\n",
    "    # 1. Format data into a more readable format from list to dataframe\n",
    "    additional_booksby_author = pd.DataFrame.from_records(to_dataframe,columns=['Book Name','Author','Average_Rating'])\n",
    "    #2. Clean Authors Name - remove newline\n",
    "    additional_booksby_author['Author'].replace('\\n', '', regex=True, inplace=True)\n",
    "    #3. Clean Authors Name - remove numbers\n",
    "    additional_booksby_author['Author'] = additional_booksby_author['Author'].str.replace('\\d+', '')\n",
    "    return additional_booksby_author\n"
   ]
  },
  {
   "cell_type": "code",
   "execution_count": 132,
   "metadata": {},
   "outputs": [
    {
     "data": {
      "text/html": [
       "<div>\n",
       "<style scoped>\n",
       "    .dataframe tbody tr th:only-of-type {\n",
       "        vertical-align: middle;\n",
       "    }\n",
       "\n",
       "    .dataframe tbody tr th {\n",
       "        vertical-align: top;\n",
       "    }\n",
       "\n",
       "    .dataframe thead th {\n",
       "        text-align: right;\n",
       "    }\n",
       "</style>\n",
       "<table border=\"1\" class=\"dataframe\">\n",
       "  <thead>\n",
       "    <tr style=\"text-align: right;\">\n",
       "      <th></th>\n",
       "      <th>Book Name</th>\n",
       "      <th>Author</th>\n",
       "      <th>Average_Rating</th>\n",
       "    </tr>\n",
       "  </thead>\n",
       "  <tbody>\n",
       "    <tr>\n",
       "      <th>0</th>\n",
       "      <td>Where the Crawdads Sing</td>\n",
       "      <td>Delia Owens</td>\n",
       "      <td>4.48</td>\n",
       "    </tr>\n",
       "    <tr>\n",
       "      <th>3</th>\n",
       "      <td>The Eye of the Elephant: An Epic Adventure in ...</td>\n",
       "      <td>Delia Owens</td>\n",
       "      <td>4.22</td>\n",
       "    </tr>\n",
       "  </tbody>\n",
       "</table>\n",
       "</div>"
      ],
      "text/plain": [
       "                                           Book Name       Author  \\\n",
       "0                            Where the Crawdads Sing  Delia Owens   \n",
       "3  The Eye of the Elephant: An Epic Adventure in ...  Delia Owens   \n",
       "\n",
       "  Average_Rating  \n",
       "0           4.48  \n",
       "3           4.22  "
      ]
     },
     "execution_count": 132,
     "metadata": {},
     "output_type": "execute_result"
    }
   ],
   "source": [
    "alls = []\n",
    "#additional_booksby_author = []\n",
    "def search_author(author):\n",
    "    search = '&q=' + author\n",
    "    url = serviceurl + apikey + search\n",
    "    uh = urllib.request.urlopen(url)\n",
    "    data = uh.read()\n",
    "    soup = BeautifulSoup(contents,'xml')\n",
    "    for d in soup.findAll('work'):\n",
    "        titles = d.find('title')\n",
    "        authors = d.find('author')\n",
    "        average_rating = d.find('average_rating')\n",
    "        all1=[]\n",
    "        if titles is not None:\n",
    "            all1.append(titles.get_text())\n",
    "        else:\n",
    "            all1.append(\"unknown-product\")\n",
    "\n",
    "        if author is not None:\n",
    "            all1.append(authors.get_text())\n",
    "        else:\n",
    "            all1.append(\"unknown-author\")\n",
    "\n",
    "        if average_rating is not None:\n",
    "            all1.append(average_rating.get_text())\n",
    "        else:\n",
    "            all1.append(\"unknown-rating\")\n",
    "\n",
    "        alls.append(all1)\n",
    "    # 1. Format data into a more readable format from list to dataframe\n",
    "    additional_booksby_author = pd.DataFrame.from_records(alls,columns=['Book Name','Author','Average_Rating'])\n",
    "    #2. Clean Authors Name - remove newline\n",
    "    additional_booksby_author['Author'].replace('\\n', '', regex=True, inplace=True)\n",
    "    #3. Clean Authors Name - remove numbers\n",
    "    additional_booksby_author['Author'] = additional_booksby_author['Author'].str.replace('\\d+', '')\n",
    "    #4. Replacing the + from the search with a space\n",
    "    author = author.replace('+', ' ')\n",
    "    #5. Removing books that are not by searched author\n",
    "    # Get names of indexes for which column is not the search author\n",
    "    indexNames = additional_booksby_author[ additional_booksby_author['Author'] != author].index\n",
    "    # Delete these row indexes from dataFrame\n",
    "    additional_booksby_author.drop(indexNames , inplace=True)    \n",
    "    #print(author_books)\n",
    "    return additional_booksby_author  \n",
    "\n",
    "author_df = search_author(\"Delia+Owens\")\n",
    "author_df"
   ]
  },
  {
   "cell_type": "code",
   "execution_count": null,
   "metadata": {},
   "outputs": [],
   "source": []
  }
 ],
 "metadata": {
  "kernelspec": {
   "display_name": "Python 3",
   "language": "python",
   "name": "python3"
  },
  "language_info": {
   "codemirror_mode": {
    "name": "ipython",
    "version": 3
   },
   "file_extension": ".py",
   "mimetype": "text/x-python",
   "name": "python",
   "nbconvert_exporter": "python",
   "pygments_lexer": "ipython3",
   "version": "3.7.4"
  }
 },
 "nbformat": 4,
 "nbformat_minor": 2
}
