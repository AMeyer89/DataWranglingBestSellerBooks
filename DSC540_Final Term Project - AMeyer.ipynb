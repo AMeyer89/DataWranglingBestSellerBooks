{
 "cells": [
  {
   "cell_type": "markdown",
   "metadata": {},
   "source": [
    "## Final Term Project Milestone 2\n",
    "**April Meyer  \n",
    "DSC540-T301 Data Preparation (2207-1)**\n",
    "\n",
    "\t1. Perform at least 5 data transformation and/or cleansing steps to your flat file data. For example:\n",
    "        • Replace Headers\n",
    "        • Format data into a more readable format\n",
    "        • Identify outliers and bad data\n",
    "        • Find duplicates\n",
    "        • Fix casing or inconsistent values\n",
    "        • Conduct Fuzzy Matching"
   ]
  },
  {
   "cell_type": "code",
   "execution_count": 1,
   "metadata": {},
   "outputs": [],
   "source": [
    "import pandas as pd\n",
    "from datetime import datetime"
   ]
  },
  {
   "cell_type": "code",
   "execution_count": 2,
   "metadata": {},
   "outputs": [
    {
     "data": {
      "text/html": [
       "<div>\n",
       "<style scoped>\n",
       "    .dataframe tbody tr th:only-of-type {\n",
       "        vertical-align: middle;\n",
       "    }\n",
       "\n",
       "    .dataframe tbody tr th {\n",
       "        vertical-align: top;\n",
       "    }\n",
       "\n",
       "    .dataframe thead th {\n",
       "        text-align: right;\n",
       "    }\n",
       "</style>\n",
       "<table border=\"1\" class=\"dataframe\">\n",
       "  <thead>\n",
       "    <tr style=\"text-align: right;\">\n",
       "      <th></th>\n",
       "      <th>0001713353</th>\n",
       "      <th>A1C6M8LCIX4M6M</th>\n",
       "      <th>5.0</th>\n",
       "      <th>1123804800</th>\n",
       "    </tr>\n",
       "  </thead>\n",
       "  <tbody>\n",
       "    <tr>\n",
       "      <th>0</th>\n",
       "      <td>0001713353</td>\n",
       "      <td>A1REUF3A1YCPHM</td>\n",
       "      <td>5.0</td>\n",
       "      <td>1112140800</td>\n",
       "    </tr>\n",
       "    <tr>\n",
       "      <th>1</th>\n",
       "      <td>0001713353</td>\n",
       "      <td>A1YRBRK2XM5D5</td>\n",
       "      <td>5.0</td>\n",
       "      <td>1081036800</td>\n",
       "    </tr>\n",
       "    <tr>\n",
       "      <th>2</th>\n",
       "      <td>0001713353</td>\n",
       "      <td>A1V8ZR5P78P4ZU</td>\n",
       "      <td>5.0</td>\n",
       "      <td>1077321600</td>\n",
       "    </tr>\n",
       "    <tr>\n",
       "      <th>3</th>\n",
       "      <td>0001713353</td>\n",
       "      <td>A2ZB06582NXCIV</td>\n",
       "      <td>5.0</td>\n",
       "      <td>1475452800</td>\n",
       "    </tr>\n",
       "    <tr>\n",
       "      <th>4</th>\n",
       "      <td>0001713353</td>\n",
       "      <td>ACPQVNRD3Z09X</td>\n",
       "      <td>5.0</td>\n",
       "      <td>1469750400</td>\n",
       "    </tr>\n",
       "  </tbody>\n",
       "</table>\n",
       "</div>"
      ],
      "text/plain": [
       "   0001713353  A1C6M8LCIX4M6M  5.0  1123804800\n",
       "0  0001713353  A1REUF3A1YCPHM  5.0  1112140800\n",
       "1  0001713353   A1YRBRK2XM5D5  5.0  1081036800\n",
       "2  0001713353  A1V8ZR5P78P4ZU  5.0  1077321600\n",
       "3  0001713353  A2ZB06582NXCIV  5.0  1475452800\n",
       "4  0001713353   ACPQVNRD3Z09X  5.0  1469750400"
      ]
     },
     "execution_count": 2,
     "metadata": {},
     "output_type": "execute_result"
    }
   ],
   "source": [
    "# reads excel file and stores as a dataframe\n",
    "Books5 = pd.read_csv('Books.csv')\n",
    "Books5.head()"
   ]
  },
  {
   "cell_type": "code",
   "execution_count": 3,
   "metadata": {},
   "outputs": [
    {
     "data": {
      "text/html": [
       "<div>\n",
       "<style scoped>\n",
       "    .dataframe tbody tr th:only-of-type {\n",
       "        vertical-align: middle;\n",
       "    }\n",
       "\n",
       "    .dataframe tbody tr th {\n",
       "        vertical-align: top;\n",
       "    }\n",
       "\n",
       "    .dataframe thead th {\n",
       "        text-align: right;\n",
       "    }\n",
       "</style>\n",
       "<table border=\"1\" class=\"dataframe\">\n",
       "  <thead>\n",
       "    <tr style=\"text-align: right;\">\n",
       "      <th></th>\n",
       "      <th>User_ID</th>\n",
       "      <th>ASIN_ISBN</th>\n",
       "      <th>Rating</th>\n",
       "      <th>DateTime</th>\n",
       "    </tr>\n",
       "  </thead>\n",
       "  <tbody>\n",
       "    <tr>\n",
       "      <th>0</th>\n",
       "      <td>0001713353</td>\n",
       "      <td>A1REUF3A1YCPHM</td>\n",
       "      <td>5.0</td>\n",
       "      <td>1112140800</td>\n",
       "    </tr>\n",
       "    <tr>\n",
       "      <th>1</th>\n",
       "      <td>0001713353</td>\n",
       "      <td>A1YRBRK2XM5D5</td>\n",
       "      <td>5.0</td>\n",
       "      <td>1081036800</td>\n",
       "    </tr>\n",
       "    <tr>\n",
       "      <th>2</th>\n",
       "      <td>0001713353</td>\n",
       "      <td>A1V8ZR5P78P4ZU</td>\n",
       "      <td>5.0</td>\n",
       "      <td>1077321600</td>\n",
       "    </tr>\n",
       "    <tr>\n",
       "      <th>3</th>\n",
       "      <td>0001713353</td>\n",
       "      <td>A2ZB06582NXCIV</td>\n",
       "      <td>5.0</td>\n",
       "      <td>1475452800</td>\n",
       "    </tr>\n",
       "    <tr>\n",
       "      <th>4</th>\n",
       "      <td>0001713353</td>\n",
       "      <td>ACPQVNRD3Z09X</td>\n",
       "      <td>5.0</td>\n",
       "      <td>1469750400</td>\n",
       "    </tr>\n",
       "  </tbody>\n",
       "</table>\n",
       "</div>"
      ],
      "text/plain": [
       "      User_ID       ASIN_ISBN  Rating    DateTime\n",
       "0  0001713353  A1REUF3A1YCPHM     5.0  1112140800\n",
       "1  0001713353   A1YRBRK2XM5D5     5.0  1081036800\n",
       "2  0001713353  A1V8ZR5P78P4ZU     5.0  1077321600\n",
       "3  0001713353  A2ZB06582NXCIV     5.0  1475452800\n",
       "4  0001713353   ACPQVNRD3Z09X     5.0  1469750400"
      ]
     },
     "execution_count": 3,
     "metadata": {},
     "output_type": "execute_result"
    }
   ],
   "source": [
    "#1. Replace Headers\n",
    "col_names = ['User_ID', 'ASIN_ISBN', 'Rating', 'DateTime']\n",
    "Books5.columns = col_names\n",
    "Books5.head()"
   ]
  },
  {
   "cell_type": "code",
   "execution_count": 4,
   "metadata": {},
   "outputs": [
    {
     "name": "stdout",
     "output_type": "stream",
     "text": [
      "<class 'pandas.core.frame.DataFrame'>\n",
      "RangeIndex: 51311620 entries, 0 to 51311619\n",
      "Data columns (total 4 columns):\n",
      " #   Column     Dtype         \n",
      "---  ------     -----         \n",
      " 0   User_ID    object        \n",
      " 1   ASIN_ISBN  object        \n",
      " 2   Rating     float64       \n",
      " 3   DateTime   datetime64[ns]\n",
      "dtypes: datetime64[ns](1), float64(1), object(2)\n",
      "memory usage: 1.5+ GB\n"
     ]
    }
   ],
   "source": [
    "#2. Converting the unix time to a datetime , 51,311,620\n",
    "Books5['DateTime'] = pd.to_datetime(Books5['DateTime'],unit='s')\n",
    "Books5.head()\n",
    "Books5.info()"
   ]
  },
  {
   "cell_type": "code",
   "execution_count": 5,
   "metadata": {},
   "outputs": [
    {
     "name": "stdout",
     "output_type": "stream",
     "text": [
      "             User_ID       ASIN_ISBN  Rating   DateTime\n",
      "1145      0001384198  A1DNVU9ZPA66AO     5.0 2011-11-07\n",
      "1236      0001384198  A1TMAVN4CEM8U8     5.0 2007-09-04\n",
      "1237      0001384198  A1TMAVN4CEM8U8     5.0 2007-09-04\n",
      "1285      0001384198   AN4RKQM9AYVAD     5.0 2001-12-14\n",
      "1473      0001381733  A3IVT3UA3ZERWQ     5.0 2016-02-18\n",
      "...              ...             ...     ...        ...\n",
      "51307107  B01GSGCTAI  A2MISP0MYPMHTS     5.0 2016-11-12\n",
      "51308406  B01H0Q30YE  A39GAUE6TR0S2D     5.0 2018-08-31\n",
      "51310232  B01HC1OF1Y  A35MIC8LAD097Z     5.0 2017-03-18\n",
      "51310234  B01HC1OF1Y   A41H6RPH78ELT     5.0 2017-03-15\n",
      "51310390  B01HCK7116  A140OBDLM9AHXX     5.0 2016-12-07\n",
      "\n",
      "[142050 rows x 4 columns]\n",
      "Empty DataFrame\n",
      "Columns: [User_ID, ASIN_ISBN, Rating, DateTime]\n",
      "Index: []\n"
     ]
    }
   ],
   "source": [
    "#3 Find a duplicate rows\n",
    "duplicateRows_Books5 = Books5[Books5.duplicated()]\n",
    "print(duplicateRows_Books5) #there is 142,050 duplicate rows.\n",
    "#Removing duplicates\n",
    "Books5.drop_duplicates(inplace=True) \n",
    "duplicateRows_Books5 = Books5[Books5.duplicated()]\n",
    "print(duplicateRows_Books5) #there is 142,050 duplicate rows."
   ]
  },
  {
   "cell_type": "code",
   "execution_count": 6,
   "metadata": {},
   "outputs": [
    {
     "data": {
      "text/plain": [
       "User_ID      0\n",
       "ASIN_ISBN    0\n",
       "Rating       0\n",
       "DateTime     0\n",
       "dtype: int64"
      ]
     },
     "execution_count": 6,
     "metadata": {},
     "output_type": "execute_result"
    }
   ],
   "source": [
    "# 4. Looking for missing values\n",
    "Books5.isnull().sum()"
   ]
  },
  {
   "cell_type": "code",
   "execution_count": 7,
   "metadata": {},
   "outputs": [
    {
     "data": {
      "text/html": [
       "<div>\n",
       "<style scoped>\n",
       "    .dataframe tbody tr th:only-of-type {\n",
       "        vertical-align: middle;\n",
       "    }\n",
       "\n",
       "    .dataframe tbody tr th {\n",
       "        vertical-align: top;\n",
       "    }\n",
       "\n",
       "    .dataframe thead th {\n",
       "        text-align: right;\n",
       "    }\n",
       "</style>\n",
       "<table border=\"1\" class=\"dataframe\">\n",
       "  <thead>\n",
       "    <tr style=\"text-align: right;\">\n",
       "      <th></th>\n",
       "      <th>User_ID</th>\n",
       "      <th>ASIN_ISBN</th>\n",
       "      <th>Rating</th>\n",
       "      <th>DateTime</th>\n",
       "      <th>TotalReviewsbyISBN</th>\n",
       "      <th>CountOfRatings</th>\n",
       "    </tr>\n",
       "  </thead>\n",
       "  <tbody>\n",
       "    <tr>\n",
       "      <th>0</th>\n",
       "      <td>0001713353</td>\n",
       "      <td>A1REUF3A1YCPHM</td>\n",
       "      <td>5.0</td>\n",
       "      <td>2005-03-30</td>\n",
       "      <td>50</td>\n",
       "      <td>35</td>\n",
       "    </tr>\n",
       "    <tr>\n",
       "      <th>1</th>\n",
       "      <td>0001713353</td>\n",
       "      <td>A1YRBRK2XM5D5</td>\n",
       "      <td>5.0</td>\n",
       "      <td>2004-04-04</td>\n",
       "      <td>2</td>\n",
       "      <td>2</td>\n",
       "    </tr>\n",
       "    <tr>\n",
       "      <th>2</th>\n",
       "      <td>0001713353</td>\n",
       "      <td>A1V8ZR5P78P4ZU</td>\n",
       "      <td>5.0</td>\n",
       "      <td>2004-02-21</td>\n",
       "      <td>1</td>\n",
       "      <td>1</td>\n",
       "    </tr>\n",
       "    <tr>\n",
       "      <th>3</th>\n",
       "      <td>0001713353</td>\n",
       "      <td>A2ZB06582NXCIV</td>\n",
       "      <td>5.0</td>\n",
       "      <td>2016-10-03</td>\n",
       "      <td>1</td>\n",
       "      <td>1</td>\n",
       "    </tr>\n",
       "    <tr>\n",
       "      <th>4</th>\n",
       "      <td>0001713353</td>\n",
       "      <td>ACPQVNRD3Z09X</td>\n",
       "      <td>5.0</td>\n",
       "      <td>2016-07-29</td>\n",
       "      <td>2</td>\n",
       "      <td>2</td>\n",
       "    </tr>\n",
       "  </tbody>\n",
       "</table>\n",
       "</div>"
      ],
      "text/plain": [
       "      User_ID       ASIN_ISBN  Rating   DateTime  TotalReviewsbyISBN  \\\n",
       "0  0001713353  A1REUF3A1YCPHM     5.0 2005-03-30                  50   \n",
       "1  0001713353   A1YRBRK2XM5D5     5.0 2004-04-04                   2   \n",
       "2  0001713353  A1V8ZR5P78P4ZU     5.0 2004-02-21                   1   \n",
       "3  0001713353  A2ZB06582NXCIV     5.0 2016-10-03                   1   \n",
       "4  0001713353   ACPQVNRD3Z09X     5.0 2016-07-29                   2   \n",
       "\n",
       "   CountOfRatings  \n",
       "0              35  \n",
       "1               2  \n",
       "2               1  \n",
       "3               1  \n",
       "4               2  "
      ]
     },
     "execution_count": 7,
     "metadata": {},
     "output_type": "execute_result"
    }
   ],
   "source": [
    "#5. Transforming to get book ISB, rating, total ratings\n",
    "Books5['TotalReviewsbyISBN'] = Books5.groupby('ASIN_ISBN')['ASIN_ISBN'].transform('count')\n",
    "Books5['CountOfRatings'] = Books5.groupby(['ASIN_ISBN', 'Rating'])['ASIN_ISBN'].transform('count')\n",
    "Books5.head()"
   ]
  },
  {
   "cell_type": "code",
   "execution_count": 8,
   "metadata": {},
   "outputs": [
    {
     "data": {
      "text/plain": [
       "'  NOTES BLOCK\\nSELECT state, count(name)\\nFROM df\\nGROUP BY state\\nORDER BY state;\\n\\nPython equivalent =\\n        n_by_state = df.groupby(\"state\")[\"last_name\"].count()\\ncall .groupby() and pass the name of the column you want to group on, which is \"state\". \\nuse [\"last_name\"] to specify the columns on which you want to perform the actual aggregation.\\n'"
      ]
     },
     "execution_count": 8,
     "metadata": {},
     "output_type": "execute_result"
    }
   ],
   "source": [
    "\"\"\"  NOTES BLOCK\n",
    "SELECT state, count(name)\n",
    "FROM df\n",
    "GROUP BY state\n",
    "ORDER BY state;\n",
    "\n",
    "Python equivalent =\n",
    "        n_by_state = df.groupby(\"state\")[\"last_name\"].count()\n",
    "call .groupby() and pass the name of the column you want to group on, which is \"state\". \n",
    "use [\"last_name\"] to specify the columns on which you want to perform the actual aggregation.\n",
    "\"\"\"\n",
    "#Books5.drop(columns=['CountOfRatings'])"
   ]
  },
  {
   "cell_type": "code",
   "execution_count": 9,
   "metadata": {
    "scrolled": true
   },
   "outputs": [
    {
     "data": {
      "text/html": [
       "<div>\n",
       "<style scoped>\n",
       "    .dataframe tbody tr th:only-of-type {\n",
       "        vertical-align: middle;\n",
       "    }\n",
       "\n",
       "    .dataframe tbody tr th {\n",
       "        vertical-align: top;\n",
       "    }\n",
       "\n",
       "    .dataframe thead th {\n",
       "        text-align: right;\n",
       "    }\n",
       "</style>\n",
       "<table border=\"1\" class=\"dataframe\">\n",
       "  <thead>\n",
       "    <tr style=\"text-align: right;\">\n",
       "      <th></th>\n",
       "      <th>ASIN_ISBN</th>\n",
       "      <th>Rating</th>\n",
       "      <th>TotalReviewsbyISBN</th>\n",
       "      <th>CountOfRatings</th>\n",
       "    </tr>\n",
       "  </thead>\n",
       "  <tbody>\n",
       "    <tr>\n",
       "      <th>0</th>\n",
       "      <td>A1REUF3A1YCPHM</td>\n",
       "      <td>5.0</td>\n",
       "      <td>50</td>\n",
       "      <td>35</td>\n",
       "    </tr>\n",
       "    <tr>\n",
       "      <th>1</th>\n",
       "      <td>A1YRBRK2XM5D5</td>\n",
       "      <td>5.0</td>\n",
       "      <td>2</td>\n",
       "      <td>2</td>\n",
       "    </tr>\n",
       "    <tr>\n",
       "      <th>2</th>\n",
       "      <td>A1V8ZR5P78P4ZU</td>\n",
       "      <td>5.0</td>\n",
       "      <td>1</td>\n",
       "      <td>1</td>\n",
       "    </tr>\n",
       "    <tr>\n",
       "      <th>3</th>\n",
       "      <td>A2ZB06582NXCIV</td>\n",
       "      <td>5.0</td>\n",
       "      <td>1</td>\n",
       "      <td>1</td>\n",
       "    </tr>\n",
       "    <tr>\n",
       "      <th>4</th>\n",
       "      <td>ACPQVNRD3Z09X</td>\n",
       "      <td>5.0</td>\n",
       "      <td>2</td>\n",
       "      <td>2</td>\n",
       "    </tr>\n",
       "  </tbody>\n",
       "</table>\n",
       "</div>"
      ],
      "text/plain": [
       "        ASIN_ISBN  Rating  TotalReviewsbyISBN  CountOfRatings\n",
       "0  A1REUF3A1YCPHM     5.0                  50              35\n",
       "1   A1YRBRK2XM5D5     5.0                   2               2\n",
       "2  A1V8ZR5P78P4ZU     5.0                   1               1\n",
       "3  A2ZB06582NXCIV     5.0                   1               1\n",
       "4   ACPQVNRD3Z09X     5.0                   2               2"
      ]
     },
     "execution_count": 9,
     "metadata": {},
     "output_type": "execute_result"
    }
   ],
   "source": [
    "#6. Creating a subset for ISBN, rating, count\n",
    "Books5_subset = Books5[['ASIN_ISBN','Rating','TotalReviewsbyISBN', 'CountOfRatings']]\n",
    "Books5_subset.head()"
   ]
  },
  {
   "cell_type": "code",
   "execution_count": 13,
   "metadata": {},
   "outputs": [
    {
     "name": "stderr",
     "output_type": "stream",
     "text": [
      "C:\\Users\\swim_\\Anaconda3\\lib\\site-packages\\ipykernel_launcher.py:4: SettingWithCopyWarning: \n",
      "A value is trying to be set on a copy of a slice from a DataFrame\n",
      "\n",
      "See the caveats in the documentation: https://pandas.pydata.org/pandas-docs/stable/user_guide/indexing.html#returning-a-view-versus-a-copy\n",
      "  after removing the cwd from sys.path.\n"
     ]
    },
    {
     "name": "stdout",
     "output_type": "stream",
     "text": [
      "Empty DataFrame\n",
      "Columns: [ASIN_ISBN, Rating, TotalReviewsbyISBN, CountOfRatings]\n",
      "Index: []\n"
     ]
    }
   ],
   "source": [
    "# duplicateRows_Books5_subset = Books5_subset[Books5_subset.duplicated()]\n",
    "# print(duplicateRows_Books5_subset) #there is 142,050 duplicate rows.\n",
    "#Removing duplicates\n",
    "Books5_subset.drop_duplicates(inplace=True) \n",
    "duplicateRows_Books5_subset = Books5_subset[Books5_subset.duplicated()]\n",
    "print(duplicateRows_Books5_subset) #there is 142,050 duplicate rows."
   ]
  },
  {
   "cell_type": "code",
   "execution_count": 14,
   "metadata": {},
   "outputs": [
    {
     "data": {
      "text/html": [
       "<div>\n",
       "<style scoped>\n",
       "    .dataframe tbody tr th:only-of-type {\n",
       "        vertical-align: middle;\n",
       "    }\n",
       "\n",
       "    .dataframe tbody tr th {\n",
       "        vertical-align: top;\n",
       "    }\n",
       "\n",
       "    .dataframe thead th {\n",
       "        text-align: right;\n",
       "    }\n",
       "</style>\n",
       "<table border=\"1\" class=\"dataframe\">\n",
       "  <thead>\n",
       "    <tr style=\"text-align: right;\">\n",
       "      <th></th>\n",
       "      <th>ASIN_ISBN</th>\n",
       "      <th>Rating</th>\n",
       "      <th>TotalReviewsbyISBN</th>\n",
       "      <th>CountOfRatings</th>\n",
       "    </tr>\n",
       "  </thead>\n",
       "  <tbody>\n",
       "    <tr>\n",
       "      <th>0</th>\n",
       "      <td>A1REUF3A1YCPHM</td>\n",
       "      <td>5.0</td>\n",
       "      <td>50</td>\n",
       "      <td>35</td>\n",
       "    </tr>\n",
       "    <tr>\n",
       "      <th>8342064</th>\n",
       "      <td>A1REUF3A1YCPHM</td>\n",
       "      <td>3.0</td>\n",
       "      <td>50</td>\n",
       "      <td>3</td>\n",
       "    </tr>\n",
       "    <tr>\n",
       "      <th>11533096</th>\n",
       "      <td>A1REUF3A1YCPHM</td>\n",
       "      <td>4.0</td>\n",
       "      <td>50</td>\n",
       "      <td>12</td>\n",
       "    </tr>\n",
       "  </tbody>\n",
       "</table>\n",
       "</div>"
      ],
      "text/plain": [
       "               ASIN_ISBN  Rating  TotalReviewsbyISBN  CountOfRatings\n",
       "0         A1REUF3A1YCPHM     5.0                  50              35\n",
       "8342064   A1REUF3A1YCPHM     3.0                  50               3\n",
       "11533096  A1REUF3A1YCPHM     4.0                  50              12"
      ]
     },
     "execution_count": 14,
     "metadata": {},
     "output_type": "execute_result"
    }
   ],
   "source": [
    "Books5_subset.loc[Books5_subset['ASIN_ISBN'] == 'A1REUF3A1YCPHM']"
   ]
  },
  {
   "cell_type": "code",
   "execution_count": 15,
   "metadata": {},
   "outputs": [],
   "source": [
    "Books5_subset.to_csv (r'C:\\Users\\swim_\\DSC 540 Data Prep\\amazon_reviews.csv', index = False, header=True)"
   ]
  },
  {
   "cell_type": "code",
   "execution_count": null,
   "metadata": {},
   "outputs": [],
   "source": []
  }
 ],
 "metadata": {
  "kernelspec": {
   "display_name": "Python 3",
   "language": "python",
   "name": "python3"
  },
  "language_info": {
   "codemirror_mode": {
    "name": "ipython",
    "version": 3
   },
   "file_extension": ".py",
   "mimetype": "text/x-python",
   "name": "python",
   "nbconvert_exporter": "python",
   "pygments_lexer": "ipython3",
   "version": "3.7.4"
  }
 },
 "nbformat": 4,
 "nbformat_minor": 2
}
